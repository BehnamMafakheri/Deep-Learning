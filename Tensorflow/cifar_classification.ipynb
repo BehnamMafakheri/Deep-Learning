{
 "cells": [
  {
   "cell_type": "code",
   "execution_count": 18,
   "metadata": {},
   "outputs": [
    {
     "name": "stdout",
     "output_type": "stream",
     "text": [
      "The autoreload extension is already loaded. To reload it, use:\n",
      "  %reload_ext autoreload\n"
     ]
    },
    {
     "data": {
      "text/plain": [
       "\"cifar10 = tf.keras.datasets.cifar10.load_data()\\n(X_train, y_train), (X_test, y_test) = cifar10\\nX_train = np.asarray(X_train, dtype=np.float32)\\nX_train = np.asarray(X_train, dtype=np.float32)\\ny_train = np.asarray(y_train, dtype=np.int32).flatten()\\nX_test = np.asarray(X_test, dtype=np.float32)\\ny_test = np.asarray(y_test, dtype=np.int32).flatten()\\n\\ntrain_dset = Dataset(X_train, y_train, batch_size=64, shuffle=True)\\ni = 0\\nfor x_np, y_np in train_dset:\\n    _ = model(x_np)\\n    i = i + 1\\n    if i > 1: break\\nprint(model.summary())        \\nSVG(model_to_dot(model).create(prog='dot', format='svg'))\""
      ]
     },
     "execution_count": 18,
     "metadata": {},
     "output_type": "execute_result"
    }
   ],
   "source": [
    "import tensorflow as tf\n",
    "from IPython.display import SVG\n",
    "from tensorflow.keras.utils import model_to_dot\n",
    "#import os\n",
    "#import numpy as np\n",
    "#import math\n",
    "#import timeit\n",
    "#import matplotlib.pyplot as plt\n",
    "from data_utils import *\n",
    "from Trainer import *\n",
    "from networks import *\n",
    "%load_ext autoreload\n",
    "%autoreload 2\n",
    "   \n",
    "#device = '/device:GPU:0'   # Change this to a CPU/GPU as you wish!\n",
    "device = '/cpu:0'        # Change this to a CPU/GPU as you wish!\n",
    "print_every = 700\n",
    "num_epochs = 10\n",
    "channel_1, channel_2, channel_3, num_classes = 32, 64, 128, 10\n",
    "model = MyFirstNet(channel_1, channel_2, channel_3, num_classes)\n",
    "\n",
    "\n",
    "\"\"\"\n",
    "cifar10 = tf.keras.datasets.cifar10.load_data()\n",
    "(X_train, y_train), (X_test, y_test) = cifar10\n",
    "X_train = np.asarray(X_train, dtype=np.float32)\n",
    "X_train = np.asarray(X_train, dtype=np.float32)\n",
    "y_train = np.asarray(y_train, dtype=np.int32).flatten()\n",
    "X_test = np.asarray(X_test, dtype=np.float32)\n",
    "y_test = np.asarray(y_test, dtype=np.int32).flatten()\n",
    "\n",
    "train_dset = Dataset(X_train, y_train, batch_size=64, shuffle=True)\n",
    "i = 0\n",
    "for x_np, y_np in train_dset:\n",
    "    _ = model(x_np)\n",
    "    i = i + 1\n",
    "    if i > 1: break\n",
    "print(model.summary())        \n",
    "SVG(model_to_dot(model).create(prog='dot', format='svg'))\n",
    "\"\"\"\n"
   ]
  },
  {
   "cell_type": "code",
   "execution_count": 19,
   "metadata": {},
   "outputs": [
    {
     "name": "stdout",
     "output_type": "stream",
     "text": [
      "(49000, 32, 32, 3)\n",
      "Iteration 0, Epoch 1, Loss: 2.7338550090789795, Accuracy: 9.375, Val Loss: 6.3755269050598145, Val Accuracy: 11.90000057220459\n",
      "Iteration 700, Epoch 1, Loss: 1.5080146789550781, Accuracy: 45.45738220214844, Val Loss: 3.4698495864868164, Val Accuracy: 15.80000114440918\n",
      "Iteration 1400, Epoch 2, Loss: 1.2308135032653809, Accuracy: 56.00885772705078, Val Loss: 3.83962082862854, Val Accuracy: 16.399999618530273\n",
      "Iteration 2100, Epoch 3, Loss: 1.123443365097046, Accuracy: 59.90498733520508, Val Loss: 3.5275416374206543, Val Accuracy: 17.0\n",
      "Iteration 2800, Epoch 4, Loss: 1.044878363609314, Accuracy: 63.062252044677734, Val Loss: 3.5672483444213867, Val Accuracy: 17.700000762939453\n",
      "Iteration 3500, Epoch 5, Loss: 0.9898623824119568, Accuracy: 64.677490234375, Val Loss: 3.145207643508911, Val Accuracy: 21.19999885559082\n",
      "Iteration 4200, Epoch 6, Loss: 0.9505763053894043, Accuracy: 66.39572143554688, Val Loss: 3.3279690742492676, Val Accuracy: 21.100000381469727\n",
      "Iteration 4900, Epoch 7, Loss: 0.9169992208480835, Accuracy: 67.70491790771484, Val Loss: 2.96994948387146, Val Accuracy: 24.100000381469727\n",
      "Iteration 5600, Epoch 8, Loss: 0.8844338655471802, Accuracy: 68.56040954589844, Val Loss: 2.861146926879883, Val Accuracy: 25.099998474121094\n",
      "Iteration 6300, Epoch 9, Loss: 0.8525010347366333, Accuracy: 70.01445007324219, Val Loss: 2.507084608078003, Val Accuracy: 26.19999885559082\n",
      "Iteration 7000, Epoch 10, Loss: 0.8297905325889587, Accuracy: 71.3346939086914, Val Loss: 2.6559975147247314, Val Accuracy: 28.0\n"
     ]
    }
   ],
   "source": [
    "def model_init_fn():\n",
    "    return MyFirstNet(channel_1, channel_2, channel_3, num_classes)\n",
    "\n",
    "def optimizer_init_fn():\n",
    "    learning_rate = 1e-3\n",
    "    return tf.keras.optimizers.Adam(learning_rate) \n",
    "\n",
    "train_part34(model_init_fn, optimizer_init_fn, num_epochs=num_epochs, is_training=True, device = device, print_every = print_every)"
   ]
  },
  {
   "cell_type": "code",
   "execution_count": null,
   "metadata": {},
   "outputs": [],
   "source": []
  }
 ],
 "metadata": {
  "kernelspec": {
   "display_name": "Python 3",
   "language": "python",
   "name": "python3"
  },
  "language_info": {
   "codemirror_mode": {
    "name": "ipython",
    "version": 3
   },
   "file_extension": ".py",
   "mimetype": "text/x-python",
   "name": "python",
   "nbconvert_exporter": "python",
   "pygments_lexer": "ipython3",
   "version": "3.7.7"
  }
 },
 "nbformat": 4,
 "nbformat_minor": 4
}
