{
 "cells": [
  {
   "cell_type": "code",
   "execution_count": 40,
   "metadata": {},
   "outputs": [],
   "source": [
    "import tensorflow as tf\n",
    "import numpy as np\n",
    "\n",
    "import matplotlib.pyplot as plt\n",
    "\n",
    "(X_train, y_train), (X_test, y_test) = tf.keras.datasets.cifar10.load_data()\n",
    "X_train = np.asarray(X_train, dtype=np.float32)\n",
    "y_train = np.asarray(y_train, dtype=np.int32).flatten()\n",
    "X_test = np.asarray(X_test, dtype=np.float32)\n",
    "y_test = np.asarray(y_test, dtype=np.int32).flatten()\n",
    "\n",
    "num_training=49000\n",
    "num_validation=1000\n",
    "num_test=10000\n",
    "\n",
    "\n",
    "mask = range(num_training, num_training + num_validation)\n",
    "X_val = X_train[mask]\n",
    "y_val = y_train[mask]\n",
    "mask = range(num_training)\n",
    "X_train = X_train[mask]\n",
    "y_train = y_train[mask]\n",
    "mask = range(num_test)\n",
    "X_test = X_test[mask]\n",
    "y_test = y_test[mask]\n",
    "\n",
    "#print(X_train[0].shape)\n",
    "\n",
    "mean_pixel = X_train.mean(axis=(0, 1, 2), keepdims=True)\n",
    "std_pixel = X_train.std(axis=(0, 1, 2), keepdims=True)\n",
    "X_train = (X_train - mean_pixel) / std_pixel\n",
    "X_val = (X_val - mean_pixel) / std_pixel\n",
    "X_test = (X_test - mean_pixel) / std_pixel"
   ]
  },
  {
   "cell_type": "code",
   "execution_count": 41,
   "metadata": {},
   "outputs": [
    {
     "data": {
      "text/plain": [
       "TensorShape([64, 32, 32, 3])"
      ]
     },
     "execution_count": 41,
     "metadata": {},
     "output_type": "execute_result"
    }
   ],
   "source": [
    "train_ds = tf.data.Dataset.from_tensor_slices((X_train, y_train)).shuffle(10000).batch(64)\n",
    "val_ds = tf.data.Dataset.from_tensor_slices((X_val, y_val)).batch(64)\n",
    "\n",
    "imgbatch, labels = next(iter(train_ds))\n",
    "(imgbatch[:].shape)"
   ]
  },
  {
   "cell_type": "code",
   "execution_count": 42,
   "metadata": {},
   "outputs": [],
   "source": [
    "class MyModel(tf.keras.Model):\n",
    "    def __init__(self):\n",
    "        super(MyModel, self).__init__()\n",
    "        self.conv1 = tf.keras.layers.Conv2D(32, 3, activation = None)\n",
    "        self.relu1 = tf.keras.layers.ReLU()\n",
    "        self.drop1 = tf.keras.layers.Dropout(rate = 0.5)\n",
    "        self.conv2 = tf.keras.layers.Conv2D(64, 3, activation = None)\n",
    "        self.relu2 = tf.keras.layers.ReLU()\n",
    "        self.drop2 = tf.keras.layers.Dropout(rate = 0.5)\n",
    "        self.conv3 = tf.keras.layers.Conv2D(128, 3, activation = None)\n",
    "        self.relu3 = tf.keras.layers.ReLU()\n",
    "        self.drop3 = tf.keras.layers.Dropout(rate = 0.5)\n",
    "\n",
    "        self.flatten = tf.keras.layers.Flatten()\n",
    "        self.fc1 = tf.keras.layers.Dense(64, activation = 'relu')\n",
    "        self.fc2 = tf.keras.layers.Dense(64, activation = 'relu')\n",
    "        self.fc3 = tf.keras.layers.Dense(10)\n",
    "        \n",
    "    def call(self, x):\n",
    "        x = self.conv1(x)\n",
    "        #x = self.bn1(x)\n",
    "        x = self.relu1(x)\n",
    "        x = self.drop1(x)\n",
    "        x = self.conv2(x)\n",
    "        #x = self.bn2(x)\n",
    "        x = self.relu2(x)\n",
    "        x = self.drop2(x)\n",
    "        x = self.conv3(x)\n",
    "        x = self.relu3(x)\n",
    "        x = self.drop3(x)\n",
    "\n",
    "        x = self.flatten(x)\n",
    "        x = self.fc1(x)\n",
    "        x = self.fc2(x)\n",
    "        return self.fc3(x)\n",
    "        \n",
    "model = MyModel()\n",
    "predictions = model(imgbatch)"
   ]
  },
  {
   "cell_type": "code",
   "execution_count": 43,
   "metadata": {},
   "outputs": [
    {
     "name": "stdout",
     "output_type": "stream",
     "text": [
      "tf.Tensor(\n",
      "[[-8.45981017e-03 -9.74943414e-02  9.56896096e-02  9.63223875e-02\n",
      "   4.87702750e-02 -2.29156110e-02 -2.67959852e-02 -3.28816362e-02\n",
      "   1.15916789e-01 -7.75385723e-02]\n",
      " [-6.17141761e-02 -1.47654772e-01  1.38516441e-01  1.59952581e-01\n",
      "   1.30781540e-04 -7.29866475e-02 -3.22147720e-02 -3.76882367e-02\n",
      "   1.60153151e-01 -1.71828464e-01]\n",
      " [ 1.67738646e-02 -2.21007109e-01  1.61079511e-01  2.49886647e-01\n",
      "  -7.72584556e-03 -8.60556290e-02 -7.71840960e-02 -1.42509654e-01\n",
      "   1.63423017e-01 -1.51551068e-01]\n",
      " [-4.57234979e-02 -1.04025811e-01  3.77960280e-02  7.72011816e-04\n",
      "  -1.54425041e-03 -3.34696844e-02 -3.37344483e-02 -5.05056530e-02\n",
      "   1.13440000e-01 -6.40833303e-02]\n",
      " [ 1.48678024e-03 -1.47323579e-01  1.96412355e-01  1.07327364e-01\n",
      "   2.27942523e-02 -2.43036579e-02  1.65893715e-02 -4.94495034e-03\n",
      "   1.55472472e-01 -9.43986624e-02]], shape=(5, 10), dtype=float32)\n"
     ]
    }
   ],
   "source": [
    "print(predictions[:5])"
   ]
  },
  {
   "cell_type": "code",
   "execution_count": 44,
   "metadata": {},
   "outputs": [
    {
     "data": {
      "text/plain": [
       "<tf.Tensor: shape=(5, 10), dtype=float32, numpy=\n",
       "array([[0.09801043, 0.08966131, 0.10876866, 0.10883752, 0.10378318,\n",
       "        0.0966038 , 0.09622967, 0.09564582, 0.11099115, 0.09146854],\n",
       "       [0.09399848, 0.08625758, 0.11483648, 0.1173247 , 0.09999534,\n",
       "        0.09294483, 0.09681268, 0.09628423, 0.11734824, 0.08419742],\n",
       "       [0.10151957, 0.08003553, 0.11727917, 0.12817088, 0.09906259,\n",
       "        0.09159916, 0.0924154 , 0.08657128, 0.11755434, 0.08579207],\n",
       "       [0.09711386, 0.09161378, 0.1055731 , 0.10173584, 0.10150046,\n",
       "        0.09831119, 0.09828517, 0.09665056, 0.11386888, 0.09534713],\n",
       "       [0.097385  , 0.08391982, 0.11834425, 0.10825752, 0.0994823 ,\n",
       "        0.09490551, 0.09886693, 0.09676065, 0.1135971 , 0.0884809 ]],\n",
       "      dtype=float32)>"
      ]
     },
     "execution_count": 44,
     "metadata": {},
     "output_type": "execute_result"
    }
   ],
   "source": [
    "tf.nn.softmax(predictions[:5])"
   ]
  },
  {
   "cell_type": "code",
   "execution_count": 45,
   "metadata": {},
   "outputs": [
    {
     "name": "stdout",
     "output_type": "stream",
     "text": [
      "Prcitions: [8 8 3 8 2]\n",
      "   Labels: [2 7 6 4 8]\n"
     ]
    }
   ],
   "source": [
    "print(\"Prcitions: {}\".format(tf.argmax(predictions[:5], axis = 1)))\n",
    "print(\"   Labels: {}\".format(labels[:5]))"
   ]
  },
  {
   "cell_type": "code",
   "execution_count": 46,
   "metadata": {},
   "outputs": [],
   "source": [
    "loss_object = tf.keras.losses.SparseCategoricalCrossentropy(from_logits=True)\n",
    "learning_rate = 1e-3\n",
    "optimizer = tf.keras.optimizers.Adam(learning_rate)\n",
    "\n",
    "train_loss = tf.keras.metrics.Mean(name='train_loss')\n",
    "train_accuracy = tf.keras.metrics.SparseCategoricalAccuracy(name='train_accuracy')\n",
    "\n",
    "val_loss = tf.keras.metrics.Mean(name='val_loss')\n",
    "val_accuracy = tf.keras.metrics.SparseCategoricalAccuracy(name='val_accuracy')"
   ]
  },
  {
   "cell_type": "code",
   "execution_count": 47,
   "metadata": {},
   "outputs": [
    {
     "name": "stdout",
     "output_type": "stream",
     "text": [
      "Loss Example: 2.284944772720337\n"
     ]
    }
   ],
   "source": [
    "y_ = model(imgbatch, training = False)\n",
    "l = loss_object(y_true = labels, y_pred = y_)\n",
    "print(\"Loss Example: {}\".format(l))"
   ]
  },
  {
   "cell_type": "code",
   "execution_count": 48,
   "metadata": {},
   "outputs": [
    {
     "name": "stdout",
     "output_type": "stream",
     "text": [
      "Eager execution: True\n"
     ]
    }
   ],
   "source": [
    "print(\"Eager execution: {}\".format(tf.executing_eagerly()))"
   ]
  },
  {
   "cell_type": "code",
   "execution_count": 49,
   "metadata": {},
   "outputs": [],
   "source": [
    "@tf.function\n",
    "def train_step(images, labels):\n",
    "    with tf.GradientTape() as tape:\n",
    "        predictions = model(images, training = True)\n",
    "        loss = loss_object(labels, predictions)\n",
    "    gradients = tape.gradient(loss, model.trainable_variables)\n",
    "    optimizer.apply_gradients(zip(gradients, model.trainable_variables))\n",
    "    \n",
    "    #print(\"Step: {},         Loss: {}\".format(optimizer.iterations.numpy(), loss.numpy()))\n",
    "    \n",
    "    train_loss(loss)\n",
    "    train_accuracy(labels, predictions)"
   ]
  },
  {
   "cell_type": "code",
   "execution_count": 50,
   "metadata": {},
   "outputs": [],
   "source": [
    "train_step(imgbatch, labels)\n",
    "train_step(imgbatch, labels)\n",
    "train_step(imgbatch, labels)\n",
    "train_step(imgbatch, labels)\n",
    "train_step(imgbatch, labels)\n",
    "train_step(imgbatch, labels)"
   ]
  },
  {
   "cell_type": "code",
   "execution_count": 51,
   "metadata": {},
   "outputs": [],
   "source": [
    "@tf.function\n",
    "def val_step (images, labels):\n",
    "    predictions = model(images, training=False)\n",
    "    v_loss = loss_object(labels, predictions)\n",
    "\n",
    "    val_loss(v_loss)\n",
    "    val_accuracy(labels, predictions)"
   ]
  },
  {
   "cell_type": "code",
   "execution_count": 52,
   "metadata": {
    "scrolled": true
   },
   "outputs": [
    {
     "name": "stdout",
     "output_type": "stream",
     "text": [
      "Epoch 1, Train Loss: 1.6381040811538696, Train Accuracy: 39.724491119384766, Val Loss: 1.274937629699707, Val Accuracy: 54.599998474121094\n",
      "Epoch 2, Train Loss: 1.2026729583740234, Train Accuracy: 57.13469314575195, Val Loss: 1.0624327659606934, Val Accuracy: 61.5\n",
      "Epoch 3, Train Loss: 1.050442099571228, Train Accuracy: 62.642852783203125, Val Loss: 1.0088495016098022, Val Accuracy: 63.80000305175781\n",
      "Epoch 4, Train Loss: 0.9570035934448242, Train Accuracy: 65.98163604736328, Val Loss: 0.9675841331481934, Val Accuracy: 65.20000457763672\n",
      "Epoch 5, Train Loss: 0.8861222863197327, Train Accuracy: 69.01428985595703, Val Loss: 0.9253342747688293, Val Accuracy: 67.5\n",
      "Epoch 6, Train Loss: 0.8297789096832275, Train Accuracy: 70.75102233886719, Val Loss: 0.9525259733200073, Val Accuracy: 67.19999694824219\n",
      "Epoch 7, Train Loss: 0.7779701948165894, Train Accuracy: 72.62449645996094, Val Loss: 0.9656226634979248, Val Accuracy: 66.79999542236328\n",
      "Epoch 8, Train Loss: 0.7418324947357178, Train Accuracy: 73.99591827392578, Val Loss: 0.883414626121521, Val Accuracy: 67.4000015258789\n",
      "Epoch 9, Train Loss: 0.699475884437561, Train Accuracy: 75.31224822998047, Val Loss: 0.8869878053665161, Val Accuracy: 69.0999984741211\n",
      "Epoch 10, Train Loss: 0.6635449528694153, Train Accuracy: 76.37755584716797, Val Loss: 0.8926759958267212, Val Accuracy: 69.5999984741211\n",
      "Epoch 11, Train Loss: 0.6326889991760254, Train Accuracy: 77.71632385253906, Val Loss: 0.9603239893913269, Val Accuracy: 68.5999984741211\n",
      "Epoch 12, Train Loss: 0.605151355266571, Train Accuracy: 78.6448974609375, Val Loss: 0.9014704823493958, Val Accuracy: 70.80000305175781\n",
      "Epoch 13, Train Loss: 0.581199049949646, Train Accuracy: 79.60408020019531, Val Loss: 0.9338722825050354, Val Accuracy: 70.4000015258789\n",
      "Epoch 14, Train Loss: 0.5599096417427063, Train Accuracy: 80.22040557861328, Val Loss: 0.8905187845230103, Val Accuracy: 70.9000015258789\n",
      "Epoch 15, Train Loss: 0.5353963971138, Train Accuracy: 81.04285430908203, Val Loss: 0.9328080415725708, Val Accuracy: 70.20000457763672\n"
     ]
    }
   ],
   "source": [
    "train_loss_results = []\n",
    "train_accuracy_results = []\n",
    "EPOCHS = 15\n",
    "\n",
    "for epoch in range(EPOCHS):\n",
    "    train_loss.reset_states()\n",
    "    train_accuracy.reset_states()\n",
    "    val_loss.reset_states()\n",
    "    val_accuracy.reset_states()\n",
    "    \n",
    "    for images, labels in train_ds:\n",
    "        train_step(images, labels)\n",
    "        \n",
    "    for val_images, val_labels in val_ds:\n",
    "        val_step(val_images, val_labels)\n",
    "        \n",
    "    \n",
    "    template = 'Epoch {}, Train Loss: {}, Train Accuracy: {}, Val Loss: {}, Val Accuracy: {}'\n",
    "    print(template.format(epoch+1,\n",
    "                          train_loss.result(),\n",
    "                          train_accuracy.result()*100,\n",
    "                          val_loss.result(),\n",
    "                          val_accuracy.result()*100))\n",
    "    train_loss_results.append(train_loss.result())\n",
    "    train_accuracy_results.append(train_accuracy.result())"
   ]
  },
  {
   "cell_type": "code",
   "execution_count": 55,
   "metadata": {},
   "outputs": [
    {
     "data": {
      "image/png": "[encoded data removed]",
      "text/plain": [
       "<Figure size 864x576 with 2 Axes>"
      ]
     },
     "metadata": {
      "needs_background": "light"
     },
     "output_type": "display_data"
    }
   ],
   "source": [
    "import matplotlib.pyplot as plt\n",
    "fig, axes = plt.subplots(2, sharex=True, figsize=(12, 8))\n",
    "fig.suptitle('Trainig Metrics')\n",
    "\n",
    "axes[0].set_ylabel(\"Loss\", fontsize = 12)\n",
    "axes[0].plot(train_loss_results)\n",
    "\n",
    "axes[1].set_ylabel(\"Accuracy\" , fontsize = 12)\n",
    "axes[1].set_xlabel(\"Epoch\", fontsize = 12)\n",
    "axes[1].plot(train_accuracy_results)\n",
    "\n",
    "plt.show()"
   ]
  },
  {
   "cell_type": "code",
   "execution_count": null,
   "metadata": {},
   "outputs": [],
   "source": []
  }
 ],
 "metadata": {
  "kernelspec": {
   "display_name": "Python 3",
   "language": "python",
   "name": "python3"
  },
  "language_info": {
   "codemirror_mode": {
    "name": "ipython",
    "version": 3
   },
   "file_extension": ".py",
   "mimetype": "text/x-python",
   "name": "python",
   "nbconvert_exporter": "python",
   "pygments_lexer": "ipython3",
   "version": "3.7.7"
  }
 },
 "nbformat": 4,
 "nbformat_minor": 4
}
