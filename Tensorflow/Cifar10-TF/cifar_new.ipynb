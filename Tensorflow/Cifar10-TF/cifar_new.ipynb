{
 "cells": [
  {
   "cell_type": "code",
   "execution_count": 6,
   "metadata": {},
   "outputs": [
    {
     "name": "stdout",
     "output_type": "stream",
     "text": [
      "The autoreload extension is already loaded. To reload it, use:\n",
      "  %reload_ext autoreload\n"
     ]
    }
   ],
   "source": [
    "import tensorflow as tf\n",
    "from data_utils_new import *\n",
    "from trainer_new import *\n",
    "from network_new import *\n",
    "%load_ext autoreload\n",
    "%autoreload 2\n",
    "   \n",
    "#device = '/device:GPU:0'   # Change this to a CPU/GPU as you wish!\n",
    "device = '/cpu:0'        # Change this to a CPU/GPU as you wish!\n",
    "num_epochs = 10\n",
    "channel_1, channel_2, channel_3, num_classes = 32, 64, 128, 10\n",
    "model = MyFirstNet(channel_1, channel_2, channel_3, num_classes)"
   ]
  },
  {
   "cell_type": "code",
   "execution_count": 7,
   "metadata": {},
   "outputs": [
    {
     "name": "stdout",
     "output_type": "stream",
     "text": [
      "(49000, 32, 32, 3)\n",
      "Epoch 1, Loss: 1.613469123840332, Accuracy: 41.422447204589844, Val Loss: 1.3672999143600464, Val Accuracy: 50.5\n",
      "Epoch 2, Loss: 1.1818236112594604, Accuracy: 57.83061218261719, Val Loss: 1.2401325702667236, Val Accuracy: 54.900001525878906\n",
      "Epoch 3, Loss: 1.026139736175537, Accuracy: 63.744895935058594, Val Loss: 1.1653940677642822, Val Accuracy: 57.70000076293945\n",
      "Epoch 4, Loss: 0.9317013621330261, Accuracy: 67.20612335205078, Val Loss: 1.1028639078140259, Val Accuracy: 59.974998474121094\n",
      "Epoch 5, Loss: 0.8677606582641602, Accuracy: 69.44693756103516, Val Loss: 1.0763531923294067, Val Accuracy: 60.81999969482422\n",
      "Epoch 6, Loss: 0.8128721714019775, Accuracy: 71.5346908569336, Val Loss: 1.053977131843567, Val Accuracy: 61.633331298828125\n",
      "Epoch 7, Loss: 0.7693241834640503, Accuracy: 72.85102081298828, Val Loss: 1.028766393661499, Val Accuracy: 62.71428298950195\n",
      "Epoch 8, Loss: 0.7239751815795898, Accuracy: 74.77143096923828, Val Loss: 1.0065616369247437, Val Accuracy: 63.67499923706055\n",
      "Epoch 9, Loss: 0.6936151385307312, Accuracy: 75.7244873046875, Val Loss: 0.9882989525794983, Val Accuracy: 64.44444274902344\n",
      "Epoch 10, Loss: 0.6609598398208618, Accuracy: 76.94693756103516, Val Loss: 0.9759813547134399, Val Accuracy: 65.10000610351562\n"
     ]
    }
   ],
   "source": [
    "def model_init_fn():\n",
    "    return MyFirstNet(channel_1, channel_2, channel_3, num_classes)\n",
    "\n",
    "def optimizer_init_fn():\n",
    "    learning_rate = 1e-3\n",
    "    return tf.keras.optimizers.Adam(learning_rate) \n",
    "\n",
    "train_part34(model_init_fn, optimizer_init_fn, num_epochs=num_epochs, device = device)"
   ]
  },
  {
   "cell_type": "code",
   "execution_count": 25,
   "metadata": {},
   "outputs": [
    {
     "data": {
      "text/plain": [
       "<tf.Tensor: shape=(10, 10), dtype=float32, numpy=\n",
       "array([[0., 0., 0., 0., 0., 0., 0., 0., 0., 0.],\n",
       "       [0., 0., 0., 0., 0., 0., 0., 0., 0., 0.],\n",
       "       [0., 0., 0., 0., 0., 0., 0., 0., 0., 0.],\n",
       "       [0., 0., 0., 0., 0., 0., 0., 0., 0., 0.],\n",
       "       [0., 0., 0., 0., 0., 0., 0., 0., 0., 0.],\n",
       "       [0., 0., 0., 0., 0., 0., 0., 0., 0., 0.],\n",
       "       [0., 0., 0., 0., 0., 0., 0., 0., 0., 0.],\n",
       "       [0., 0., 0., 0., 0., 0., 0., 0., 0., 0.],\n",
       "       [0., 0., 0., 0., 0., 0., 0., 0., 0., 0.],\n",
       "       [0., 0., 0., 0., 0., 0., 0., 0., 0., 0.]], dtype=float32)>"
      ]
     },
     "execution_count": 25,
     "metadata": {},
     "output_type": "execute_result"
    }
   ],
   "source": [
    "layer = tf.keras.layers.Dense(10, input_shape = (None, 4))\n",
    "layer(tf.zeros((10, 4)))"
   ]
  },
  {
   "cell_type": "code",
   "execution_count": 26,
   "metadata": {},
   "outputs": [
    {
     "data": {
      "text/plain": [
       "[<tf.Variable 'dense_24/kernel:0' shape=(4, 10) dtype=float32, numpy=\n",
       " array([[ 0.48721683,  0.4693085 , -0.56703055, -0.0822233 ,  0.07910419,\n",
       "         -0.00218594, -0.46565196, -0.1265881 , -0.5781083 ,  0.31809258],\n",
       "        [-0.47842443,  0.6073866 ,  0.13130164,  0.46094084, -0.5790156 ,\n",
       "          0.19877082, -0.3438412 , -0.07026577, -0.02362621, -0.54595315],\n",
       "        [-0.5816148 , -0.5344955 ,  0.1915124 , -0.046377  ,  0.43482602,\n",
       "         -0.22756729, -0.3843923 ,  0.5925398 , -0.4360845 ,  0.19022942],\n",
       "        [-0.4297785 , -0.6086211 ,  0.06351382,  0.38706005,  0.02193618,\n",
       "         -0.40611482,  0.48249912,  0.3310948 ,  0.46016896, -0.02742773]],\n",
       "       dtype=float32)>,\n",
       " <tf.Variable 'dense_24/bias:0' shape=(10,) dtype=float32, numpy=array([0., 0., 0., 0., 0., 0., 0., 0., 0., 0.], dtype=float32)>]"
      ]
     },
     "execution_count": 26,
     "metadata": {},
     "output_type": "execute_result"
    }
   ],
   "source": [
    "layer.variables"
   ]
  },
  {
   "cell_type": "code",
   "execution_count": 28,
   "metadata": {},
   "outputs": [
    {
     "data": {
      "text/plain": [
       "(<tf.Variable 'dense_24/kernel:0' shape=(4, 10) dtype=float32, numpy=\n",
       " array([[ 0.48721683,  0.4693085 , -0.56703055, -0.0822233 ,  0.07910419,\n",
       "         -0.00218594, -0.46565196, -0.1265881 , -0.5781083 ,  0.31809258],\n",
       "        [-0.47842443,  0.6073866 ,  0.13130164,  0.46094084, -0.5790156 ,\n",
       "          0.19877082, -0.3438412 , -0.07026577, -0.02362621, -0.54595315],\n",
       "        [-0.5816148 , -0.5344955 ,  0.1915124 , -0.046377  ,  0.43482602,\n",
       "         -0.22756729, -0.3843923 ,  0.5925398 , -0.4360845 ,  0.19022942],\n",
       "        [-0.4297785 , -0.6086211 ,  0.06351382,  0.38706005,  0.02193618,\n",
       "         -0.40611482,  0.48249912,  0.3310948 ,  0.46016896, -0.02742773]],\n",
       "       dtype=float32)>,\n",
       " <tf.Variable 'dense_24/bias:0' shape=(10,) dtype=float32, numpy=array([0., 0., 0., 0., 0., 0., 0., 0., 0., 0.], dtype=float32)>)"
      ]
     },
     "execution_count": 28,
     "metadata": {},
     "output_type": "execute_result"
    }
   ],
   "source": [
    "layer.kernel, layer.bias"
   ]
  },
  {
   "cell_type": "code",
   "execution_count": 29,
   "metadata": {},
   "outputs": [],
   "source": [
    "class MyDenseLayer(tf.keras.layers.Layer):\n",
    "    def __init__(self, num_outputs):\n",
    "        super(MyDenseLayer, self).__init__()\n",
    "        self.num_outputs = num_outputs\n",
    "        \n",
    "    def build(self, input_shape):\n",
    "        self.kernel = self.add_weight(\"kernel\", shape = [int(input_shape[-1]), self.num_outputs])\n",
    "        \n",
    "    def call(self, input):\n",
    "        return tf.matmul(input, self.kernel)\n",
    "    \n",
    "layer = MyDenseLayer(10)\n",
    "\n",
    "_ = layer(tf.zeros((10, 5)))"
   ]
  },
  {
   "cell_type": "code",
   "execution_count": 30,
   "metadata": {},
   "outputs": [
    {
     "data": {
      "text/plain": [
       "[<tf.Variable 'my_dense_layer/kernel:0' shape=(5, 10) dtype=float32, numpy=\n",
       " array([[-0.36101952,  0.3891167 ,  0.3790403 , -0.16709897, -0.07070893,\n",
       "         -0.08277947,  0.25023758,  0.37144202,  0.54409343,  0.5742951 ],\n",
       "        [ 0.16722107, -0.06229872,  0.15400505,  0.22881061,  0.5440286 ,\n",
       "          0.26932526, -0.29787055, -0.5611146 , -0.1429644 , -0.37048155],\n",
       "        [ 0.47519296,  0.4327882 ,  0.33073413,  0.38190788, -0.27237782,\n",
       "         -0.11693835, -0.37990195, -0.56716007, -0.3069636 ,  0.3221699 ],\n",
       "        [ 0.6088987 , -0.1764512 , -0.5215313 ,  0.22983974,  0.5330886 ,\n",
       "          0.27226955,  0.32410377, -0.5332144 , -0.26928046,  0.26926297],\n",
       "        [ 0.3989789 ,  0.03922027,  0.02071059,  0.410919  , -0.03417486,\n",
       "         -0.21777993,  0.39279634, -0.11439878,  0.5731495 , -0.30182844]],\n",
       "       dtype=float32)>]"
      ]
     },
     "execution_count": 30,
     "metadata": {},
     "output_type": "execute_result"
    }
   ],
   "source": [
    "layer.trainable_variables"
   ]
  },
  {
   "cell_type": "code",
   "execution_count": 31,
   "metadata": {},
   "outputs": [
    {
     "name": "stdout",
     "output_type": "stream",
     "text": [
      "['my_dense_layer/kernel:0']\n"
     ]
    }
   ],
   "source": [
    "print([var.name for var in layer.trainable_variables])"
   ]
  },
  {
   "cell_type": "code",
   "execution_count": 46,
   "metadata": {},
   "outputs": [],
   "source": [
    "class ResnetIdentityBlock(tf.keras.Model):\n",
    "    def __init__(self, kernel_size, filters):\n",
    "        super(ResnetIdentityBlock, self).__init__()\n",
    "        filter1, filter2, filter3 = filters\n",
    "        \n",
    "        self.conv2a = tf.keras.layers.Conv2D(filter1, (1,1))\n",
    "        self.bn2a = tf.keras.layers.BatchNormalization()\n",
    "        \n",
    "        self.conv2b = tf.keras.layers.Conv2D(filter2, kernel_size, padding='same')\n",
    "        self.bn2b = tf.keras.layers.BatchNormalization()\n",
    "        \n",
    "        self.conv2c = tf.keras.layers.Conv2D(filter3, (1, 1))\n",
    "        self.bn2c = tf.keras.layers.BatchNormalization()\n",
    "        \n",
    "    def call(self, input_tensor, training = False):\n",
    "        x = self.conv2a(input_tensor)\n",
    "        x = self.bn2a(x, training = training)\n",
    "        x = tf.nn.relu(x)\n",
    "        \n",
    "        x = self.conv2b(x)\n",
    "        x = self.bn2b(x, training = training)\n",
    "        x = tf.nn.relu(x)\n",
    "        \n",
    "        x = self.conv2c(x)\n",
    "        x = self.bn2c(x, training = training)\n",
    "        \n",
    "        x += input_tensor\n",
    "        return tf.nn.relu(x)\n",
    "    \n",
    "block = ResnetIdentityBlock((1,1), [1, 2, 3])"
   ]
  },
  {
   "cell_type": "code",
   "execution_count": 47,
   "metadata": {},
   "outputs": [
    {
     "name": "stdout",
     "output_type": "stream",
     "text": [
      "(1, 2, 3, 1)\n",
      "(1, 2, 3, 1)\n",
      "(1, 2, 3, 2)\n",
      "(1, 2, 3, 3)\n",
      "tf.Tensor(\n",
      "[[[[0. 0. 0.]\n",
      "   [0. 0. 0.]\n",
      "   [0. 0. 0.]]\n",
      "\n",
      "  [[0. 0. 0.]\n",
      "   [0. 0. 0.]\n",
      "   [0. 0. 0.]]]], shape=(1, 2, 3, 3), dtype=float32)\n"
     ]
    }
   ],
   "source": [
    "outputs = block(tf.zeros([1, 2, 3, 3])) \n",
    "print(outputs)"
   ]
  },
  {
   "cell_type": "code",
   "execution_count": 35,
   "metadata": {},
   "outputs": [
    {
     "data": {
      "text/plain": [
       "[<tensorflow.python.keras.layers.convolutional.Conv2D at 0x620131af88>,\n",
       " <tensorflow.python.keras.layers.normalization_v2.BatchNormalization at 0x62646f0ec8>,\n",
       " <tensorflow.python.keras.layers.convolutional.Conv2D at 0x6201323748>,\n",
       " <tensorflow.python.keras.layers.normalization_v2.BatchNormalization at 0x62012e8548>,\n",
       " <tensorflow.python.keras.layers.convolutional.Conv2D at 0x62012c7708>,\n",
       " <tensorflow.python.keras.layers.normalization_v2.BatchNormalization at 0x620133e988>]"
      ]
     },
     "execution_count": 35,
     "metadata": {},
     "output_type": "execute_result"
    }
   ],
   "source": [
    "block.layers"
   ]
  },
  {
   "cell_type": "code",
   "execution_count": 36,
   "metadata": {},
   "outputs": [
    {
     "data": {
      "text/plain": [
       "18"
      ]
     },
     "execution_count": 36,
     "metadata": {},
     "output_type": "execute_result"
    }
   ],
   "source": [
    "len(block.variables)"
   ]
  },
  {
   "cell_type": "code",
   "execution_count": 37,
   "metadata": {},
   "outputs": [
    {
     "name": "stdout",
     "output_type": "stream",
     "text": [
      "Model: \"resnet_identity_block_1\"\n",
      "_________________________________________________________________\n",
      "Layer (type)                 Output Shape              Param #   \n",
      "=================================================================\n",
      "conv2d_21 (Conv2D)           multiple                  4         \n",
      "_________________________________________________________________\n",
      "batch_normalization_21 (Batc multiple                  4         \n",
      "_________________________________________________________________\n",
      "conv2d_22 (Conv2D)           multiple                  4         \n",
      "_________________________________________________________________\n",
      "batch_normalization_22 (Batc multiple                  8         \n",
      "_________________________________________________________________\n",
      "conv2d_23 (Conv2D)           multiple                  9         \n",
      "_________________________________________________________________\n",
      "batch_normalization_23 (Batc multiple                  12        \n",
      "=================================================================\n",
      "Total params: 41\n",
      "Trainable params: 29\n",
      "Non-trainable params: 12\n",
      "_________________________________________________________________\n"
     ]
    }
   ],
   "source": [
    "block.summary()"
   ]
  }
 ],
 "metadata": {
  "kernelspec": {
   "display_name": "Python 3",
   "language": "python",
   "name": "python3"
  },
  "language_info": {
   "codemirror_mode": {
    "name": "ipython",
    "version": 3
   },
   "file_extension": ".py",
   "mimetype": "text/x-python",
   "name": "python",
   "nbconvert_exporter": "python",
   "pygments_lexer": "ipython3",
   "version": "3.7.7"
  }
 },
 "nbformat": 4,
 "nbformat_minor": 4
}
