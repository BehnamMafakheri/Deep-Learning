{
 "cells": [
  {
   "cell_type": "code",
   "execution_count": 25,
   "metadata": {},
   "outputs": [
    {
     "name": "stdout",
     "output_type": "stream",
     "text": [
      "The autoreload extension is already loaded. To reload it, use:\n",
      "  %reload_ext autoreload\n"
     ]
    }
   ],
   "source": [
    "import tensorflow as tf\n",
    "from data_utils import *\n",
    "from Trainer import *\n",
    "from networks import *\n",
    "%load_ext autoreload\n",
    "%autoreload 2\n",
    "   \n",
    "#device = '/device:GPU:0'   # Change this to a CPU/GPU as you wish!\n",
    "device = '/cpu:0'        # Change this to a CPU/GPU as you wish!\n",
    "print_every = 700\n",
    "num_epochs = 10\n",
    "channel_1, channel_2, channel_3, num_classes = 32, 64, 128, 10\n",
    "model = MyFirstNet(channel_1, channel_2, channel_3, num_classes)\n"
   ]
  },
  {
   "cell_type": "code",
   "execution_count": 26,
   "metadata": {},
   "outputs": [
    {
     "name": "stdout",
     "output_type": "stream",
     "text": [
      "(49000, 32, 32, 3)\n",
      "Iteration 0, Epoch 1, Loss: 2.3065974712371826, Accuracy: 15.625, Val Loss: 2.3536324501037598, Val Accuracy: 10.699999809265137\n",
      "Iteration 700, Epoch 1, Loss: 2.0677578449249268, Accuracy: 38.942138671875, Val Loss: 2.319396734237671, Val Accuracy: 13.09999942779541\n",
      "Iteration 1400, Epoch 2, Loss: 1.9556554555892944, Accuracy: 50.418304443359375, Val Loss: 2.2898504734039307, Val Accuracy: 16.0\n",
      "Iteration 2100, Epoch 3, Loss: 1.9121359586715698, Accuracy: 54.78086471557617, Val Loss: 2.2778141498565674, Val Accuracy: 17.399999618530273\n",
      "Iteration 2800, Epoch 4, Loss: 1.889534592628479, Accuracy: 56.95203399658203, Val Loss: 2.242151975631714, Val Accuracy: 21.100000381469727\n",
      "Iteration 3500, Epoch 5, Loss: 1.8724663257598877, Accuracy: 58.663475036621094, Val Loss: 2.271574020385742, Val Accuracy: 17.600000381469727\n",
      "Iteration 4200, Epoch 6, Loss: 1.8620948791503906, Accuracy: 59.57294845581055, Val Loss: 2.2489678859710693, Val Accuracy: 20.700000762939453\n",
      "Iteration 4900, Epoch 7, Loss: 1.8478357791900635, Accuracy: 61.14242172241211, Val Loss: 2.275684356689453, Val Accuracy: 17.80000114440918\n",
      "Iteration 5600, Epoch 8, Loss: 1.8409415483474731, Accuracy: 61.99006271362305, Val Loss: 2.24838924407959, Val Accuracy: 20.5\n",
      "Iteration 6300, Epoch 9, Loss: 1.8420405387878418, Accuracy: 61.569725036621094, Val Loss: 2.2459723949432373, Val Accuracy: 20.700000762939453\n",
      "Iteration 7000, Epoch 10, Loss: 1.8192274570465088, Accuracy: 64.23773193359375, Val Loss: 2.2473089694976807, Val Accuracy: 20.80000114440918\n"
     ]
    }
   ],
   "source": [
    "def model_init_fn():\n",
    "    return MyFirstNet(channel_1, channel_2, channel_3, num_classes)\n",
    "\n",
    "def optimizer_init_fn():\n",
    "    learning_rate = 1e-3\n",
    "    return tf.keras.optimizers.Adam(learning_rate) \n",
    "\n",
    "train_part34(model_init_fn, optimizer_init_fn, num_epochs=num_epochs, is_training=True, device = device, print_every = print_every)"
   ]
  },
  {
   "cell_type": "code",
   "execution_count": null,
   "metadata": {},
   "outputs": [],
   "source": []
  }
 ],
 "metadata": {
  "kernelspec": {
   "display_name": "Python 3",
   "language": "python",
   "name": "python3"
  },
  "language_info": {
   "codemirror_mode": {
    "name": "ipython",
    "version": 3
   },
   "file_extension": ".py",
   "mimetype": "text/x-python",
   "name": "python",
   "nbconvert_exporter": "python",
   "pygments_lexer": "ipython3",
   "version": "3.7.7"
  }
 },
 "nbformat": 4,
 "nbformat_minor": 4
}
