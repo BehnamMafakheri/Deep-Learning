{
 "cells": [
  {
   "cell_type": "code",
   "execution_count": null,
   "metadata": {},
   "outputs": [],
   "source": [
    "import tensorflow as tf\n",
    "from data_utils import *\n",
    "from Trainer import *\n",
    "from networks import *\n",
    "%load_ext autoreload\n",
    "%autoreload 2\n",
    "   \n",
    "#device = '/device:GPU:0'   # Change this to a CPU/GPU as you wish!\n",
    "device = '/cpu:0'        # Change this to a CPU/GPU as you wish!\n",
    "print_every = 700\n",
    "num_epochs = 10\n",
    "channel_1, channel_2, channel_3, num_classes = 32, 64, 128, 10\n",
    "model = MyFirstNet(channel_1, channel_2, channel_3, num_classes)"
   ]
  }
 ],
 "metadata": {
  "kernelspec": {
   "display_name": "Python 3",
   "language": "python",
   "name": "python3"
  }
 },
 "nbformat": 4,
 "nbformat_minor": 4
}
